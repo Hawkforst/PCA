{
 "cells": [
  {
   "cell_type": "markdown",
   "id": "64a9e92a",
   "metadata": {},
   "source": [
    "# Principal Component Analysis (PCA)"
   ]
  },
  {
   "cell_type": "markdown",
   "id": "74dfca05",
   "metadata": {},
   "source": [
    "- statistical interpretation of SVD\n",
    "- hierarchical coordinate system\n",
    "- unsupervised\n",
    "\n",
    "$\\chi = \\begin{bmatrix} x_1 \\\\ x_2 \\\\ ... \\\\ x_n \\end{bmatrix} $,\n",
    "\n",
    "where each row vector $x_i$ is a measurement from a single experiment.\n",
    "EX. x_1 information about a specific human, e.g. age, sex, weight,.. and x_1 is human1, x_2 is human2.\n",
    "\n",
    "We're expecting that $\\chi$ has some statistical properties, variance and so on, and we'll apply SVD to it."
   ]
  },
  {
   "cell_type": "markdown",
   "id": "ff7e6304",
   "metadata": {},
   "source": [
    "## Algorithm\n",
    "\n",
    "1. Calculate mean row\n",
    "\n",
    "$\\bar{x}= \\frac{1}{n} \\sum_{i=1}^n x_j$\n",
    "\n",
    "$\\bar{\\chi}$ .. means matrix$\n",
    "\n",
    "2. Subtract mean (calculate mean centered data)\n",
    "\n",
    "$B = \\chi - \\bar{\\chi}$\n",
    "\n",
    "3. Calculate covariance matrix for rows of B\n",
    "\n",
    "$C = B^T B$\n",
    "\n",
    "4. Compute eigenvalues of C\n",
    "\n",
    "e.g. max eigenvalue -> $v_1^T B^T B v_1$\n",
    "\n",
    "$C V = V D$,\n",
    "\n",
    "where\n",
    "\n",
    ".. V - eigenvectors\n",
    "\n",
    ".. D - eigenvalues\n",
    "\n",
    "$T = B V$,\n",
    "\n",
    "where\n",
    "\n",
    ".. T - principle components\n",
    "\n",
    ".. V - loadings\n",
    "\n",
    "$T = U \\Sigma$\n",
    "\n",
    "$B = U \\Sigma V^T$\n",
    "\n",
    "\n"
   ]
  },
  {
   "cell_type": "code",
   "execution_count": 1,
   "id": "39f0e69c",
   "metadata": {},
   "outputs": [],
   "source": [
    "import numpy as np"
   ]
  },
  {
   "cell_type": "code",
   "execution_count": 2,
   "id": "68bb5199",
   "metadata": {},
   "outputs": [],
   "source": [
    "class PCA:\n",
    "    def __init__(self, n_components):\n",
    "        self.n_components = n_components\n",
    "        self.mean = 0\n",
    "        self.components = np.array([])\n",
    "        \n",
    "    def calculate_principal_components(self, X):\n",
    "        # 1. calculate mean\n",
    "        self.mean = np.mean(X, axis=0)\n",
    "        # 2. calculate centered X\n",
    "        chi = X - self.mean\n",
    "        # 3. calculate convariance matrix\n",
    "        # see np.cov documentation -> transpose chi\n",
    "        covariance_M = np.cov(chi.T)\n",
    "        # 4. calculate eigenvectors, eigenvalues\n",
    "        eigenvalues, eigenvectors = np.linalg.eig(covariance_M)\n",
    "        # 5. sort eigenvectors from the most importat ones\n",
    "        idxs = np.argsort(eigenvalues)[::-1]\n",
    "        eigenvectors = eigenvectors.T[idxs]\n",
    "        # 6. use n_component number of eigenvectors\n",
    "        self.components = eigenvectors[0:self.n_components]\n",
    "        \n",
    "    def transform(self, X):\n",
    "        chi = X - self.mean\n",
    "        return np.dot(chi, self.components.T)\n",
    "    \n",
    "    def get_components(self):\n",
    "        return self.components[0:self.n_components]"
   ]
  },
  {
   "cell_type": "code",
   "execution_count": 3,
   "id": "3d5dcde0",
   "metadata": {},
   "outputs": [],
   "source": [
    "from sklearn import datasets\n",
    "import pandas as pd"
   ]
  },
  {
   "cell_type": "code",
   "execution_count": 4,
   "id": "c64fa50b",
   "metadata": {},
   "outputs": [],
   "source": [
    "data = datasets.load_iris()"
   ]
  },
  {
   "cell_type": "code",
   "execution_count": 5,
   "id": "30d3bcc8",
   "metadata": {},
   "outputs": [],
   "source": [
    "df = pd.DataFrame(data=data['data'],columns= data['feature_names'])"
   ]
  },
  {
   "cell_type": "code",
   "execution_count": 6,
   "id": "6998e432",
   "metadata": {},
   "outputs": [],
   "source": [
    "df_tar = pd.DataFrame(data=data['target'],columns=['target'])"
   ]
  },
  {
   "cell_type": "code",
   "execution_count": 7,
   "id": "512d1c91",
   "metadata": {
    "scrolled": true
   },
   "outputs": [
    {
     "data": {
      "text/html": [
       "<div>\n",
       "<style scoped>\n",
       "    .dataframe tbody tr th:only-of-type {\n",
       "        vertical-align: middle;\n",
       "    }\n",
       "\n",
       "    .dataframe tbody tr th {\n",
       "        vertical-align: top;\n",
       "    }\n",
       "\n",
       "    .dataframe thead th {\n",
       "        text-align: right;\n",
       "    }\n",
       "</style>\n",
       "<table border=\"1\" class=\"dataframe\">\n",
       "  <thead>\n",
       "    <tr style=\"text-align: right;\">\n",
       "      <th></th>\n",
       "      <th>sepal length (cm)</th>\n",
       "      <th>sepal width (cm)</th>\n",
       "      <th>petal length (cm)</th>\n",
       "      <th>petal width (cm)</th>\n",
       "    </tr>\n",
       "  </thead>\n",
       "  <tbody>\n",
       "    <tr>\n",
       "      <th>0</th>\n",
       "      <td>5.1</td>\n",
       "      <td>3.5</td>\n",
       "      <td>1.4</td>\n",
       "      <td>0.2</td>\n",
       "    </tr>\n",
       "    <tr>\n",
       "      <th>1</th>\n",
       "      <td>4.9</td>\n",
       "      <td>3.0</td>\n",
       "      <td>1.4</td>\n",
       "      <td>0.2</td>\n",
       "    </tr>\n",
       "    <tr>\n",
       "      <th>2</th>\n",
       "      <td>4.7</td>\n",
       "      <td>3.2</td>\n",
       "      <td>1.3</td>\n",
       "      <td>0.2</td>\n",
       "    </tr>\n",
       "    <tr>\n",
       "      <th>3</th>\n",
       "      <td>4.6</td>\n",
       "      <td>3.1</td>\n",
       "      <td>1.5</td>\n",
       "      <td>0.2</td>\n",
       "    </tr>\n",
       "    <tr>\n",
       "      <th>4</th>\n",
       "      <td>5.0</td>\n",
       "      <td>3.6</td>\n",
       "      <td>1.4</td>\n",
       "      <td>0.2</td>\n",
       "    </tr>\n",
       "    <tr>\n",
       "      <th>...</th>\n",
       "      <td>...</td>\n",
       "      <td>...</td>\n",
       "      <td>...</td>\n",
       "      <td>...</td>\n",
       "    </tr>\n",
       "    <tr>\n",
       "      <th>145</th>\n",
       "      <td>6.7</td>\n",
       "      <td>3.0</td>\n",
       "      <td>5.2</td>\n",
       "      <td>2.3</td>\n",
       "    </tr>\n",
       "    <tr>\n",
       "      <th>146</th>\n",
       "      <td>6.3</td>\n",
       "      <td>2.5</td>\n",
       "      <td>5.0</td>\n",
       "      <td>1.9</td>\n",
       "    </tr>\n",
       "    <tr>\n",
       "      <th>147</th>\n",
       "      <td>6.5</td>\n",
       "      <td>3.0</td>\n",
       "      <td>5.2</td>\n",
       "      <td>2.0</td>\n",
       "    </tr>\n",
       "    <tr>\n",
       "      <th>148</th>\n",
       "      <td>6.2</td>\n",
       "      <td>3.4</td>\n",
       "      <td>5.4</td>\n",
       "      <td>2.3</td>\n",
       "    </tr>\n",
       "    <tr>\n",
       "      <th>149</th>\n",
       "      <td>5.9</td>\n",
       "      <td>3.0</td>\n",
       "      <td>5.1</td>\n",
       "      <td>1.8</td>\n",
       "    </tr>\n",
       "  </tbody>\n",
       "</table>\n",
       "<p>150 rows × 4 columns</p>\n",
       "</div>"
      ],
      "text/plain": [
       "     sepal length (cm)  sepal width (cm)  petal length (cm)  petal width (cm)\n",
       "0                  5.1               3.5                1.4               0.2\n",
       "1                  4.9               3.0                1.4               0.2\n",
       "2                  4.7               3.2                1.3               0.2\n",
       "3                  4.6               3.1                1.5               0.2\n",
       "4                  5.0               3.6                1.4               0.2\n",
       "..                 ...               ...                ...               ...\n",
       "145                6.7               3.0                5.2               2.3\n",
       "146                6.3               2.5                5.0               1.9\n",
       "147                6.5               3.0                5.2               2.0\n",
       "148                6.2               3.4                5.4               2.3\n",
       "149                5.9               3.0                5.1               1.8\n",
       "\n",
       "[150 rows x 4 columns]"
      ]
     },
     "execution_count": 7,
     "metadata": {},
     "output_type": "execute_result"
    }
   ],
   "source": [
    "df"
   ]
  },
  {
   "cell_type": "code",
   "execution_count": 8,
   "id": "82e92824",
   "metadata": {},
   "outputs": [
    {
     "data": {
      "text/html": [
       "<div>\n",
       "<style scoped>\n",
       "    .dataframe tbody tr th:only-of-type {\n",
       "        vertical-align: middle;\n",
       "    }\n",
       "\n",
       "    .dataframe tbody tr th {\n",
       "        vertical-align: top;\n",
       "    }\n",
       "\n",
       "    .dataframe thead th {\n",
       "        text-align: right;\n",
       "    }\n",
       "</style>\n",
       "<table border=\"1\" class=\"dataframe\">\n",
       "  <thead>\n",
       "    <tr style=\"text-align: right;\">\n",
       "      <th></th>\n",
       "      <th>sepal length (cm)</th>\n",
       "      <th>sepal width (cm)</th>\n",
       "      <th>petal length (cm)</th>\n",
       "      <th>petal width (cm)</th>\n",
       "    </tr>\n",
       "  </thead>\n",
       "  <tbody>\n",
       "    <tr>\n",
       "      <th>count</th>\n",
       "      <td>150.000000</td>\n",
       "      <td>150.000000</td>\n",
       "      <td>150.000000</td>\n",
       "      <td>150.000000</td>\n",
       "    </tr>\n",
       "    <tr>\n",
       "      <th>mean</th>\n",
       "      <td>5.843333</td>\n",
       "      <td>3.057333</td>\n",
       "      <td>3.758000</td>\n",
       "      <td>1.199333</td>\n",
       "    </tr>\n",
       "    <tr>\n",
       "      <th>std</th>\n",
       "      <td>0.828066</td>\n",
       "      <td>0.435866</td>\n",
       "      <td>1.765298</td>\n",
       "      <td>0.762238</td>\n",
       "    </tr>\n",
       "    <tr>\n",
       "      <th>min</th>\n",
       "      <td>4.300000</td>\n",
       "      <td>2.000000</td>\n",
       "      <td>1.000000</td>\n",
       "      <td>0.100000</td>\n",
       "    </tr>\n",
       "    <tr>\n",
       "      <th>25%</th>\n",
       "      <td>5.100000</td>\n",
       "      <td>2.800000</td>\n",
       "      <td>1.600000</td>\n",
       "      <td>0.300000</td>\n",
       "    </tr>\n",
       "    <tr>\n",
       "      <th>50%</th>\n",
       "      <td>5.800000</td>\n",
       "      <td>3.000000</td>\n",
       "      <td>4.350000</td>\n",
       "      <td>1.300000</td>\n",
       "    </tr>\n",
       "    <tr>\n",
       "      <th>75%</th>\n",
       "      <td>6.400000</td>\n",
       "      <td>3.300000</td>\n",
       "      <td>5.100000</td>\n",
       "      <td>1.800000</td>\n",
       "    </tr>\n",
       "    <tr>\n",
       "      <th>max</th>\n",
       "      <td>7.900000</td>\n",
       "      <td>4.400000</td>\n",
       "      <td>6.900000</td>\n",
       "      <td>2.500000</td>\n",
       "    </tr>\n",
       "  </tbody>\n",
       "</table>\n",
       "</div>"
      ],
      "text/plain": [
       "       sepal length (cm)  sepal width (cm)  petal length (cm)  \\\n",
       "count         150.000000        150.000000         150.000000   \n",
       "mean            5.843333          3.057333           3.758000   \n",
       "std             0.828066          0.435866           1.765298   \n",
       "min             4.300000          2.000000           1.000000   \n",
       "25%             5.100000          2.800000           1.600000   \n",
       "50%             5.800000          3.000000           4.350000   \n",
       "75%             6.400000          3.300000           5.100000   \n",
       "max             7.900000          4.400000           6.900000   \n",
       "\n",
       "       petal width (cm)  \n",
       "count        150.000000  \n",
       "mean           1.199333  \n",
       "std            0.762238  \n",
       "min            0.100000  \n",
       "25%            0.300000  \n",
       "50%            1.300000  \n",
       "75%            1.800000  \n",
       "max            2.500000  "
      ]
     },
     "execution_count": 8,
     "metadata": {},
     "output_type": "execute_result"
    }
   ],
   "source": [
    "df.describe()"
   ]
  },
  {
   "cell_type": "code",
   "execution_count": 9,
   "id": "4abaddfe",
   "metadata": {},
   "outputs": [],
   "source": [
    "corrM = df.corr()"
   ]
  },
  {
   "cell_type": "code",
   "execution_count": 10,
   "id": "8f37b487",
   "metadata": {},
   "outputs": [],
   "source": [
    "import matplotlib.pyplot as plt"
   ]
  },
  {
   "cell_type": "code",
   "execution_count": 11,
   "id": "7571bc29",
   "metadata": {},
   "outputs": [
    {
     "data": {
      "text/plain": [
       "Text(0.5, 1.0, 'Correlation Matrix')"
      ]
     },
     "execution_count": 11,
     "metadata": {},
     "output_type": "execute_result"
    },
    {
     "data": {
      "image/png": "[encoded data removed]",
      "text/plain": [
       "<Figure size 1008x864 with 2 Axes>"
      ]
     },
     "metadata": {
      "needs_background": "light"
     },
     "output_type": "display_data"
    }
   ],
   "source": [
    "f = plt.figure(figsize=(14, 12))\n",
    "plt.matshow(df.corr(), fignum=f.number)\n",
    "plt.xticks(range(df.select_dtypes(['number']).shape[1]), df.select_dtypes(['number']).columns, fontsize=10, rotation=60)\n",
    "plt.yticks(range(df.select_dtypes(['number']).shape[1]), df.select_dtypes(['number']).columns, fontsize=14)\n",
    "cb = plt.colorbar()\n",
    "cb.ax.tick_params(labelsize=14)\n",
    "plt.title('Correlation Matrix', fontsize=16)"
   ]
  },
  {
   "cell_type": "code",
   "execution_count": 12,
   "id": "0f52abbb",
   "metadata": {},
   "outputs": [],
   "source": [
    "pca = PCA(2)"
   ]
  },
  {
   "cell_type": "code",
   "execution_count": 13,
   "id": "294c087e",
   "metadata": {},
   "outputs": [],
   "source": [
    "pca.calculate_principal_components(df.to_numpy())"
   ]
  },
  {
   "cell_type": "code",
   "execution_count": 14,
   "id": "6001262c",
   "metadata": {},
   "outputs": [],
   "source": [
    "reduced_data = pca.transform(df.to_numpy())"
   ]
  },
  {
   "cell_type": "code",
   "execution_count": 15,
   "id": "a7df5b01",
   "metadata": {},
   "outputs": [],
   "source": [
    "y = df_tar.to_numpy()"
   ]
  },
  {
   "cell_type": "code",
   "execution_count": 16,
   "id": "2d470378",
   "metadata": {},
   "outputs": [
    {
     "data": {
      "image/png": "[encoded data removed]",
      "text/plain": [
       "<Figure size 432x288 with 2 Axes>"
      ]
     },
     "metadata": {
      "needs_background": "light"
     },
     "output_type": "display_data"
    }
   ],
   "source": [
    "x1 = reduced_data[:,0]\n",
    "x2 = reduced_data[:,1]\n",
    "\n",
    "plt.scatter(x1, x2, c=y, edgecolor='none',alpha = 0.8,\n",
    "                   cmap=plt.cm.get_cmap('viridis',3))\n",
    "plt.xlabel('Principal Component 1')\n",
    "plt.ylabel('Principal Component 2')\n",
    "plt.colorbar()\n",
    "plt.show()"
   ]
  },
  {
   "cell_type": "code",
   "execution_count": 17,
   "id": "1e25b7f3",
   "metadata": {},
   "outputs": [],
   "source": [
    "data = datasets.load_breast_cancer()"
   ]
  },
  {
   "cell_type": "code",
   "execution_count": 18,
   "id": "00772e22",
   "metadata": {},
   "outputs": [],
   "source": [
    "pca = PCA(3)"
   ]
  },
  {
   "cell_type": "code",
   "execution_count": 19,
   "id": "94b8fdf4",
   "metadata": {},
   "outputs": [
    {
     "data": {
      "text/plain": [
       "array([[1.799e+01, 1.038e+01, 1.228e+02, ..., 2.654e-01, 4.601e-01,\n",
       "        1.189e-01],\n",
       "       [2.057e+01, 1.777e+01, 1.329e+02, ..., 1.860e-01, 2.750e-01,\n",
       "        8.902e-02],\n",
       "       [1.969e+01, 2.125e+01, 1.300e+02, ..., 2.430e-01, 3.613e-01,\n",
       "        8.758e-02],\n",
       "       ...,\n",
       "       [1.660e+01, 2.808e+01, 1.083e+02, ..., 1.418e-01, 2.218e-01,\n",
       "        7.820e-02],\n",
       "       [2.060e+01, 2.933e+01, 1.401e+02, ..., 2.650e-01, 4.087e-01,\n",
       "        1.240e-01],\n",
       "       [7.760e+00, 2.454e+01, 4.792e+01, ..., 0.000e+00, 2.871e-01,\n",
       "        7.039e-02]])"
      ]
     },
     "execution_count": 19,
     "metadata": {},
     "output_type": "execute_result"
    }
   ],
   "source": [
    "data['data']"
   ]
  },
  {
   "cell_type": "code",
   "execution_count": 20,
   "id": "99d2e6ad",
   "metadata": {},
   "outputs": [
    {
     "data": {
      "text/plain": [
       "(569, 30)"
      ]
     },
     "execution_count": 20,
     "metadata": {},
     "output_type": "execute_result"
    }
   ],
   "source": [
    "data['data'].shape"
   ]
  },
  {
   "cell_type": "code",
   "execution_count": 21,
   "id": "db3e45a9",
   "metadata": {},
   "outputs": [],
   "source": [
    "pca.calculate_principal_components(data['data'])"
   ]
  },
  {
   "cell_type": "code",
   "execution_count": 22,
   "id": "0d6e42c3",
   "metadata": {},
   "outputs": [],
   "source": [
    "reduced_data = pca.transform(data['data'])"
   ]
  },
  {
   "cell_type": "code",
   "execution_count": 23,
   "id": "8ed261ce",
   "metadata": {},
   "outputs": [
    {
     "data": {
      "text/plain": [
       "array([[1160.1425737 , -293.91754364,   48.57839763],\n",
       "       [1269.12244319,   15.63018184,  -35.39453423],\n",
       "       [ 995.79388896,   39.15674324,   -1.70975298],\n",
       "       ...,\n",
       "       [ 314.50175618,   47.55352518,  -10.44240718],\n",
       "       [1124.85811531,   34.12922497,  -19.74208742],\n",
       "       [-771.52762188,  -88.64310636,   23.88903189]])"
      ]
     },
     "execution_count": 23,
     "metadata": {},
     "output_type": "execute_result"
    }
   ],
   "source": [
    "reduced_data"
   ]
  },
  {
   "cell_type": "code",
   "execution_count": 24,
   "id": "9bb02c6c",
   "metadata": {
    "scrolled": true
   },
   "outputs": [
    {
     "data": {
      "text/plain": [
       "array([ 1.16014257e+03,  1.26912244e+03,  9.95793889e+02, -4.07180803e+02,\n",
       "        9.30341180e+02, -2.11591259e+02,  8.21210900e+02, -2.50899776e+01,\n",
       "       -1.91292834e+02, -2.38292863e+02,  3.04687818e+02,  4.24361128e+02,\n",
       "        6.34514335e+02,  6.30426906e+01, -1.96441210e+02,  5.60046828e+01,\n",
       "        2.35858120e+02,  4.47392780e+02,  1.61509345e+03, -1.91621045e+02,\n",
       "       -2.85051275e+02, -6.83583952e+02,  1.12560459e+02,  1.87373312e+03,\n",
       "        1.27373066e+03,  6.34879769e+02,  8.59184126e+00,  6.77784526e+02,\n",
       "        3.73719881e+02,  4.53678089e+02,  9.03981279e+02, -1.03689312e+02,\n",
       "        5.24945203e+02,  1.06217159e+03,  4.04385934e+02,  4.10049756e+02,\n",
       "       -8.06577946e+01, -3.55877850e+02, -1.28973156e+02, -1.70245723e+02,\n",
       "       -1.27994761e+02, -4.62028008e+02,  8.97027427e+02, -3.43752015e+01,\n",
       "       -1.84707363e+02,  8.07564573e+02, -7.83838668e+02, -1.66757183e+02,\n",
       "       -3.62699507e+02, -2.05111744e+02, -4.30034080e+02, -2.35893530e+02,\n",
       "       -4.16469507e+02,  5.76360308e+02,  1.57404079e+02, -4.48982719e+02,\n",
       "        1.34213857e+03,  9.09989494e+01, -2.86145436e+02, -7.44091835e+02,\n",
       "       -6.16729721e+02, -7.45600808e+02,  6.44083862e+01, -6.93961699e+02,\n",
       "       -7.42768046e+01,  4.51754297e+01, -6.72376704e+02, -4.90879529e+02,\n",
       "       -6.87223199e+02, -3.58981873e+02,  1.09240105e+03, -7.24662583e+02,\n",
       "        8.28581198e+02, -9.55563616e+01, -3.27215523e+02,  3.79602387e+02,\n",
       "       -2.85278119e+02,  8.11390005e+02,  9.46865858e+02, -2.99250196e+02,\n",
       "       -4.36503939e+02, -2.98362656e+02,  2.07740594e+03,  6.06824327e+02,\n",
       "       -3.78661386e+02,  8.38236034e+02, -6.44630843e+01,  8.54613799e+02,\n",
       "       -3.60500123e+02, -6.67916271e+01, -6.19424844e+01, -4.73708321e+00,\n",
       "       -9.65562522e+01, -2.07477212e+02,  1.50753037e+02,  1.06220376e+03,\n",
       "       -4.36373547e+02, -6.28769296e+02, -4.42121250e+02, -5.31055528e+01,\n",
       "       -1.50970253e+01, -8.63142308e+02, -3.88027039e+02, -6.31210194e+02,\n",
       "       -5.75375594e+02, -1.10478362e+02, -4.33855875e+02, -3.87258589e+02,\n",
       "        1.71641922e+03, -4.45594260e+02, -6.29930932e+02, -3.93495618e+02,\n",
       "       -1.59550090e+02, -6.00774542e+02, -7.32350558e+02, -3.67752309e+02,\n",
       "       -7.36744006e+02,  1.98250721e+02,  4.02217870e+02,  4.95886901e+02,\n",
       "       -4.48932547e+02,  7.93467305e+02,  1.60479840e+03, -1.23524596e+02,\n",
       "       -2.66553320e+02, -1.67747128e+02, -7.06506347e+01,  8.15324159e+02,\n",
       "       -9.02469696e+01,  8.85999273e+02, -3.91368534e+02,  2.84948132e+02,\n",
       "        3.32775688e+02,  9.11666092e+01,  8.26132127e+02, -2.72443965e+02,\n",
       "       -4.06046033e+02, -4.92118676e+02,  9.36953428e+01, -5.23163457e+02,\n",
       "       -6.52274806e+02,  3.85449591e+02, -4.57449129e+02, -2.77648999e+02,\n",
       "       -5.32841585e+02, -4.33332099e+02, -3.63460535e+02, -4.23585520e+01,\n",
       "       -1.05468675e+02, -1.69629355e+02, -2.96311445e+02, -7.76088604e+02,\n",
       "       -6.11750001e+02, -5.19561601e+02, -2.34884741e+02, -3.73013711e+02,\n",
       "        5.23876767e+02,  2.47070962e+02, -4.06209055e+02, -5.02293565e+02,\n",
       "       -4.09978422e+02,  7.90621392e+02,  1.44842836e+03, -3.79990840e+02,\n",
       "        1.83936889e+03, -6.71063180e+01, -5.55406210e+02,  4.46202676e+02,\n",
       "        8.42414450e+02, -5.88924817e+01, -3.83867453e+02,  5.04877075e+01,\n",
       "        2.32515164e+02, -5.62095002e+02, -5.63845042e+02, -7.55967624e+02,\n",
       "       -6.03444135e+02,  1.78688536e+02, -3.00734139e+02, -3.42038877e+02,\n",
       "        2.82824144e+03,  1.37639231e+03,  3.90199157e+02, -4.86023943e+02,\n",
       "        1.07058280e+02, -5.55748840e+02,  6.52582105e+02, -4.30248093e+02,\n",
       "       -4.53465837e+02, -3.86067386e+02, -1.24350866e+02, -3.33298359e+02,\n",
       "       -6.85469642e+02, -1.87830802e+02, -7.31331619e+01, -3.12697321e+02,\n",
       "       -9.61624219e+01,  4.90818029e+02,  9.47873219e+02,  1.32419751e+02,\n",
       "       -3.08525888e+02,  4.61217812e+02,  1.48260886e+03,  2.04418599e+02,\n",
       "       -2.63623436e+02,  1.24670054e+02, -6.58207460e+02,  4.12942923e+02,\n",
       "       -2.72412738e+02,  8.02698919e+01,  9.97051472e+02, -4.05092970e+02,\n",
       "        2.36670071e+03,  2.73638271e+02, -8.19335858e+01, -1.51621888e+02,\n",
       "       -4.15428109e+02, -5.82354150e+02,  1.26795997e+03,  1.66281535e+03,\n",
       "       -1.94876522e+02, -2.15206500e+02, -6.11093115e+02,  2.32615719e+02,\n",
       "       -2.04015093e+02, -1.27813836e+01, -5.85755132e+02, -4.69995973e+01,\n",
       "       -3.02943962e+02, -2.28327736e+02,  3.88504338e+02, -5.02721083e+02,\n",
       "       -4.91150894e+02,  1.19401173e+03, -6.62870513e+02, -1.68802906e+02,\n",
       "        2.29647999e+03,  1.08392975e+03, -1.16086235e+02,  5.89796832e+02,\n",
       "       -2.10733365e+02, -3.82931152e+02, -4.87582338e+02, -1.82892462e+02,\n",
       "        7.19906380e+02, -5.74574508e+02, -2.98650717e+02, -2.81255737e+02,\n",
       "       -5.24769159e+02, -4.62960334e+02,  1.33889845e+03, -4.47248939e+02,\n",
       "        1.18853270e+03,  4.33729775e+02,  1.20143758e+03, -7.38862448e+01,\n",
       "        1.18493051e+03,  7.33575437e+01,  3.63607158e+02,  1.78606495e+02,\n",
       "        1.15307437e+03,  4.33284771e+02,  5.09679673e+02,  1.45369683e+02,\n",
       "        6.17242967e+02,  2.58482814e+03, -5.50815536e+02, -2.36592219e+02,\n",
       "       -3.17447230e+02, -5.64288141e+02, -1.80884386e+02, -5.02158572e+02,\n",
       "        1.72609476e+03, -6.40723401e+02,  5.54793060e+02, -4.62647856e+02,\n",
       "       -4.97118080e+02,  5.35852305e+02, -1.64873302e+02, -2.16054890e+02,\n",
       "        9.73891551e+02, -4.15133649e+02,  8.94419140e+02,  2.06700123e+02,\n",
       "       -3.16321408e+02, -3.57935747e+02, -3.97834640e+02, -3.33456289e+02,\n",
       "       -5.14676563e+02, -4.96155389e+02, -9.66263442e+01, -4.41507077e+01,\n",
       "       -3.27023019e+02, -4.27173310e+02, -3.65512135e+02, -2.26423133e+02,\n",
       "       -5.70885077e+02, -3.95512449e+02, -6.43442992e+01, -6.10885098e+02,\n",
       "        1.29923246e+03, -3.77510342e+02,  1.01001071e+03, -6.00574132e+02,\n",
       "       -4.65988360e+02, -4.70296059e+02, -2.70868078e+02, -7.23567560e+02,\n",
       "       -2.02784223e+02, -2.43066638e+02, -4.64330683e+02, -2.95306512e+01,\n",
       "       -3.02989062e+02, -4.82500226e+02, -7.75054946e+02, -3.79352925e+02,\n",
       "       -4.16348258e+02,  7.10453791e+02, -7.13269922e+02, -4.04813013e+02,\n",
       "       -5.92300476e+02,  9.87023111e+02, -3.19483750e+02,  1.22221252e+03,\n",
       "       -3.57812660e+02, -3.48765803e+02, -1.32657995e+02, -4.15424310e+02,\n",
       "        2.88844429e+02,  1.71325412e+02,  2.33819327e+02, -2.84451886e+02,\n",
       "       -5.20429177e+02, -4.70842227e+02, -3.88138950e+02,  5.51656022e+02,\n",
       "       -3.34955591e+02,  1.07804794e+03, -6.05035298e+02,  2.30421759e+03,\n",
       "       -2.30141426e+01, -6.47016431e+02, -5.24429248e+02,  8.45947142e+02,\n",
       "       -4.34234474e+02, -6.22255336e+02, -3.82097430e+02,  7.11501655e+00,\n",
       "       -4.78899996e+02, -4.47998868e+02, -4.11614689e+02,  8.49318901e+01,\n",
       "        2.72100090e+03,  1.78493416e+02, -5.06414893e+02, -3.73291881e+02,\n",
       "       -3.22378849e+02, -1.92016715e+02, -7.10878225e+02, -5.73512756e+02,\n",
       "       -3.37662831e+02, -2.79264179e+02, -3.40809359e+02,  2.04757006e+02,\n",
       "       -2.40380402e+02,  1.10217709e+03,  9.80521469e+02, -3.22054014e+02,\n",
       "        2.40494229e+03,  1.58612829e+03,  3.40252376e+02, -2.42145805e+01,\n",
       "        9.39399721e+02,  1.26588250e+03, -2.20141640e+02,  5.21529369e+01,\n",
       "       -6.18289177e+02, -2.20454409e+02, -2.31153056e+02, -4.71867248e+02,\n",
       "       -4.86648595e+02, -5.18977293e+02, -4.44380417e+02, -3.40081211e+02,\n",
       "       -2.79529558e+02, -9.97697592e+01, -4.01127519e+02, -1.46890514e+02,\n",
       "       -5.05808135e+02,  6.41497926e+02, -5.90719281e+02, -7.01731349e+02,\n",
       "        4.57687259e+02,  1.41897688e+03, -3.83907762e+02, -1.92915575e+02,\n",
       "       -2.26835333e+02, -3.24223054e+02, -4.73757538e+02, -3.89230260e+02,\n",
       "        5.39399089e+02, -3.60470743e+02, -2.89405492e+02, -3.34306607e+02,\n",
       "       -3.94359342e+02, -4.97861513e+02,  1.32173362e+02, -2.73669212e+02,\n",
       "        5.76209588e+02, -3.30164205e+02, -4.41247952e+02, -4.97867645e+02,\n",
       "       -6.98452816e+02,  8.28217694e+00,  7.73496363e+01, -4.21863664e+02,\n",
       "       -6.46308854e+02,  8.26211142e+02, -3.52599928e+02, -5.05324890e+02,\n",
       "       -4.36338009e+02, -5.91573734e+01, -4.75742905e+02, -1.89064489e+02,\n",
       "       -6.17194385e+02, -6.13829443e+02, -5.44413156e+02, -4.88804882e+02,\n",
       "       -5.37173976e+02, -3.31993064e+02, -2.48657913e+01, -4.10186841e+02,\n",
       "        8.21589728e+02,  8.57390181e+02, -7.91889284e+01, -3.91209726e+01,\n",
       "       -2.93170335e+02, -1.34669890e+02, -1.45250730e+02, -1.90164936e+02,\n",
       "       -4.93690843e+02,  4.88376228e+02, -1.85145247e+02, -6.04822971e+02,\n",
       "        5.25706888e+02, -4.25633512e+02,  6.46046225e+02, -3.43241415e+01,\n",
       "       -4.10213185e+01,  1.35645994e+03, -4.36192585e+02,  7.41384890e+02,\n",
       "       -4.16941153e+02, -1.17871335e+02, -2.96968964e+02, -2.00880953e+02,\n",
       "       -4.27105870e+02, -2.73821557e+02, -2.86588766e+02, -6.44928887e+02,\n",
       "        8.03716112e+02,  3.86717805e+03, -1.30334367e+02, -4.57054159e+02,\n",
       "       -2.27411027e+02, -1.83928135e+02, -2.25395498e+02, -6.20872171e+02,\n",
       "        6.48811118e+02, -4.29748209e+02, -6.15058977e+02, -3.73872299e+02,\n",
       "        3.81305542e+01, -3.73893334e+02, -5.38116442e+02, -3.13282620e+02,\n",
       "       -6.34926725e+01, -1.68343867e+02, -4.84481541e+02,  1.34503261e+02,\n",
       "       -3.89808953e+02, -7.04629661e+01, -2.46258593e+02, -2.10513421e+02,\n",
       "        2.44347066e+01, -3.49091838e+02, -3.76290741e+01,  1.00214850e+03,\n",
       "       -4.05353203e+02,  2.78679418e+02, -3.19372507e+02,  4.57339406e+02,\n",
       "        6.52244528e+02, -3.89694528e+02, -2.59641710e+02, -7.02344941e+01,\n",
       "       -3.00030110e+02, -3.25928982e+02,  8.32609773e+02,  1.09948689e+03,\n",
       "       -2.30675677e+00, -1.09464701e+02, -3.74935084e+02,  2.16618517e+03,\n",
       "       -7.08652366e+02, -6.72591115e+02, -4.18653294e+02, -5.52979663e+02,\n",
       "        1.25261547e+02,  6.45965121e+01, -4.68335643e+02, -9.05470582e+01,\n",
       "       -8.17538714e+01, -1.38829918e+01,  9.83555360e+01, -4.82149027e+02,\n",
       "        7.31367197e+02,  9.46295946e+02, -2.60052625e+02, -3.03492556e+02,\n",
       "       -6.81583641e+02,  2.12701809e+03, -5.20808520e+02, -1.96893522e+02,\n",
       "       -6.20561204e+02, -7.45022121e+02, -1.92430670e+02, -3.68577841e+02,\n",
       "       -2.25523469e+02, -3.92929018e+02, -4.01674388e+02, -4.07535831e+02,\n",
       "       -1.34103392e+02,  9.91378730e+02, -5.56616798e+02,  1.13558195e+03,\n",
       "       -1.43994567e+02, -4.65866538e+02, -7.90313242e+02, -8.15980267e+02,\n",
       "       -4.93647933e+02, -6.07825117e+01, -3.96620719e+01, -2.76257863e+02,\n",
       "       -2.01254078e+02, -1.71841169e+02, -5.97225414e+02, -6.23076493e+02,\n",
       "       -6.35064042e+02, -4.73472752e+02, -5.54764270e+02, -5.24660056e+02,\n",
       "       -3.22054342e+02, -7.04967034e+02, -3.17926338e+02, -6.22214536e+02,\n",
       "       -6.36046256e+02, -6.70677027e+02, -1.25245136e+02, -4.79335707e+02,\n",
       "       -1.77242816e+02, -5.18011863e+02,  6.19407986e+01,  1.16713698e+03,\n",
       "        1.41412668e+03,  1.04501885e+03,  3.14501756e+02,  1.12485812e+03,\n",
       "       -7.71527622e+02])"
      ]
     },
     "execution_count": 24,
     "metadata": {},
     "output_type": "execute_result"
    }
   ],
   "source": [
    "reduced_data[:,0]"
   ]
  },
  {
   "cell_type": "code",
   "execution_count": 25,
   "id": "cc9dc94c",
   "metadata": {},
   "outputs": [
    {
     "data": {
      "text/plain": [
       "array([ 5.08623202e-03,  2.19657026e-03,  3.50763298e-02,  5.16826469e-01,\n",
       "        4.23694535e-06,  4.05260047e-05,  8.19399539e-05,  4.77807775e-05,\n",
       "        7.07804332e-06, -2.62155251e-06,  3.13742507e-04, -6.50984008e-05,\n",
       "        2.23634150e-03,  5.57271669e-02, -8.05646029e-07,  5.51918197e-06,\n",
       "        8.87094462e-06,  3.27915009e-06, -1.24101836e-06, -8.54530832e-08,\n",
       "        7.15473257e-03,  3.06736622e-03,  4.94576447e-02,  8.52063392e-01,\n",
       "        6.42005481e-06,  1.01275937e-04,  1.68928625e-04,  7.36658178e-05,\n",
       "        1.78986262e-05,  1.61356159e-06])"
      ]
     },
     "execution_count": 25,
     "metadata": {},
     "output_type": "execute_result"
    }
   ],
   "source": [
    "pca.get_components()[0]"
   ]
  },
  {
   "cell_type": "code",
   "execution_count": 26,
   "id": "805007e9",
   "metadata": {
    "scrolled": true
   },
   "outputs": [
    {
     "data": {
      "text/plain": [
       "array([0, 0, 0, 0, 0, 0, 0, 0, 0, 0, 0, 0, 0, 0, 0, 0, 0, 0, 0, 1, 1, 1,\n",
       "       0, 0, 0, 0, 0, 0, 0, 0, 0, 0, 0, 0, 0, 0, 0, 1, 0, 0, 0, 0, 0, 0,\n",
       "       0, 0, 1, 0, 1, 1, 1, 1, 1, 0, 0, 1, 0, 0, 1, 1, 1, 1, 0, 1, 0, 0,\n",
       "       1, 1, 1, 1, 0, 1, 0, 0, 1, 0, 1, 0, 0, 1, 1, 1, 0, 0, 1, 0, 0, 0,\n",
       "       1, 1, 1, 0, 1, 1, 0, 0, 1, 1, 1, 0, 0, 1, 1, 1, 1, 0, 1, 1, 0, 1,\n",
       "       1, 1, 1, 1, 1, 1, 1, 0, 0, 0, 1, 0, 0, 1, 1, 1, 0, 0, 1, 0, 1, 0,\n",
       "       0, 1, 0, 0, 1, 1, 0, 1, 1, 0, 1, 1, 1, 1, 0, 1, 1, 1, 1, 1, 1, 1,\n",
       "       1, 1, 0, 1, 1, 1, 1, 0, 0, 1, 0, 1, 1, 0, 0, 1, 1, 0, 0, 1, 1, 1,\n",
       "       1, 0, 1, 1, 0, 0, 0, 1, 0, 1, 0, 1, 1, 1, 0, 1, 1, 0, 0, 1, 0, 0,\n",
       "       0, 0, 1, 0, 0, 0, 1, 0, 1, 0, 1, 1, 0, 1, 0, 0, 0, 0, 1, 1, 0, 0,\n",
       "       1, 1, 1, 0, 1, 1, 1, 1, 1, 0, 0, 1, 1, 0, 1, 1, 0, 0, 1, 0, 1, 1,\n",
       "       1, 1, 0, 1, 1, 1, 1, 1, 0, 1, 0, 0, 0, 0, 0, 0, 0, 0, 0, 0, 0, 0,\n",
       "       0, 0, 1, 1, 1, 1, 1, 1, 0, 1, 0, 1, 1, 0, 1, 1, 0, 1, 0, 0, 1, 1,\n",
       "       1, 1, 1, 1, 1, 1, 1, 1, 1, 1, 1, 0, 1, 1, 0, 1, 0, 1, 1, 1, 1, 1,\n",
       "       1, 1, 1, 1, 1, 1, 1, 1, 1, 0, 1, 1, 1, 0, 1, 0, 1, 1, 1, 1, 0, 0,\n",
       "       0, 1, 1, 1, 1, 0, 1, 0, 1, 0, 1, 1, 1, 0, 1, 1, 1, 1, 1, 1, 1, 0,\n",
       "       0, 0, 1, 1, 1, 1, 1, 1, 1, 1, 1, 1, 1, 0, 0, 1, 0, 0, 0, 1, 0, 0,\n",
       "       1, 1, 1, 1, 1, 0, 1, 1, 1, 1, 1, 0, 1, 1, 1, 0, 1, 1, 0, 0, 1, 1,\n",
       "       1, 1, 1, 1, 0, 1, 1, 1, 1, 1, 1, 1, 0, 1, 1, 1, 1, 1, 0, 1, 1, 0,\n",
       "       1, 1, 1, 1, 1, 1, 1, 1, 1, 1, 1, 1, 0, 1, 0, 0, 1, 0, 1, 1, 1, 1,\n",
       "       1, 0, 1, 1, 0, 1, 0, 1, 1, 0, 1, 0, 1, 1, 1, 1, 1, 1, 1, 1, 0, 0,\n",
       "       1, 1, 1, 1, 1, 1, 0, 1, 1, 1, 1, 1, 1, 1, 1, 1, 1, 0, 1, 1, 1, 1,\n",
       "       1, 1, 1, 0, 1, 0, 1, 1, 0, 1, 1, 1, 1, 1, 0, 0, 1, 0, 1, 0, 1, 1,\n",
       "       1, 1, 1, 0, 1, 1, 0, 1, 0, 1, 0, 0, 1, 1, 1, 0, 1, 1, 1, 1, 1, 1,\n",
       "       1, 1, 1, 1, 1, 0, 1, 0, 0, 1, 1, 1, 1, 1, 1, 1, 1, 1, 1, 1, 1, 1,\n",
       "       1, 1, 1, 1, 1, 1, 1, 1, 1, 1, 1, 1, 0, 0, 0, 0, 0, 0, 1])"
      ]
     },
     "execution_count": 26,
     "metadata": {},
     "output_type": "execute_result"
    }
   ],
   "source": [
    "data['target']"
   ]
  },
  {
   "cell_type": "code",
   "execution_count": 27,
   "id": "3d2c3f01",
   "metadata": {
    "scrolled": false
   },
   "outputs": [
    {
     "data": {
      "image/png": "[encoded data removed]",
      "text/plain": [
       "<Figure size 864x576 with 1 Axes>"
      ]
     },
     "metadata": {
      "needs_background": "light"
     },
     "output_type": "display_data"
    }
   ],
   "source": [
    "fig = plt.figure(figsize=(12,8))\n",
    "ax = fig.add_subplot(projection='3d')\n",
    "\n",
    "ax.scatter3D(reduced_data[:,0],reduced_data[:,1],reduced_data[:,2],c=data['target'])\n",
    "plt.show()"
   ]
  },
  {
   "cell_type": "code",
   "execution_count": 49,
   "id": "1243f119",
   "metadata": {},
   "outputs": [],
   "source": [
    "from collections import Counter"
   ]
  },
  {
   "cell_type": "code",
   "execution_count": 51,
   "id": "82b4d435",
   "metadata": {},
   "outputs": [],
   "source": [
    "class KNN:\n",
    "    def __init__(self, K):\n",
    "        self.K = K\n",
    "        self.X = np.array([])\n",
    "        self.y = np.array([])\n",
    "        \n",
    "    @staticmethod\n",
    "    def euclidian_distance(x1, x2):\n",
    "        return np.sqrt(np.sum(x1 - x2)**2)\n",
    "    \n",
    "    def fit(self, X, y):\n",
    "        self.X = X\n",
    "        self.y = y\n",
    "    \n",
    "    def predict(self, X):\n",
    "        predicted_labels = [self._predict(x) for x in X]\n",
    "        return np.array(predicted_labels)\n",
    "    \n",
    "    def _predict(self, x):\n",
    "        # 1. calculate distances\n",
    "        distances = [self.euclidian_distance(x, x_train) for x_train in self.X]\n",
    "        # 2. get get k nearest samples + their labels\n",
    "        k_indices = np.argsort(distances)[:self.K]\n",
    "        k_nearest_labels = [self.y[i] for i in k_indices]\n",
    "        # 3. majority vote, most common class label\n",
    "        most_common = Counter(k_nearest_labels).most_common(1)[0][0]\n",
    "        # 4. return most common\n",
    "        return most_common"
   ]
  },
  {
   "cell_type": "code",
   "execution_count": 52,
   "id": "2dc383b5",
   "metadata": {},
   "outputs": [],
   "source": [
    "knn = KNN(5)"
   ]
  },
  {
   "cell_type": "code",
   "execution_count": 42,
   "id": "b0634d99",
   "metadata": {},
   "outputs": [
    {
     "data": {
      "text/plain": [
       "(569, 3)"
      ]
     },
     "execution_count": 42,
     "metadata": {},
     "output_type": "execute_result"
    }
   ],
   "source": [
    "reduced_data.shape"
   ]
  },
  {
   "cell_type": "code",
   "execution_count": 34,
   "id": "b56cc5ab",
   "metadata": {},
   "outputs": [
    {
     "data": {
      "text/plain": [
       "(569,)"
      ]
     },
     "execution_count": 34,
     "metadata": {},
     "output_type": "execute_result"
    }
   ],
   "source": [
    "data['target'].shape"
   ]
  },
  {
   "cell_type": "code",
   "execution_count": 35,
   "id": "cdf55b52",
   "metadata": {},
   "outputs": [],
   "source": [
    "from sklearn.model_selection import train_test_split"
   ]
  },
  {
   "cell_type": "code",
   "execution_count": 37,
   "id": "90fe9fbd",
   "metadata": {},
   "outputs": [],
   "source": [
    "X_train, X_test, y_train, y_test = train_test_split(reduced_data, data['target'], test_size=0.2, random_state=12)"
   ]
  },
  {
   "cell_type": "code",
   "execution_count": 53,
   "id": "91ba966f",
   "metadata": {},
   "outputs": [],
   "source": [
    "knn.fit(X_train,y_train)"
   ]
  },
  {
   "cell_type": "code",
   "execution_count": 54,
   "id": "c5cb4f80",
   "metadata": {},
   "outputs": [],
   "source": [
    "prediction = knn.predict(X_test)"
   ]
  },
  {
   "cell_type": "code",
   "execution_count": 55,
   "id": "f7886daa",
   "metadata": {},
   "outputs": [
    {
     "data": {
      "text/plain": [
       "array([1, 1, 1, 1, 1, 1, 1, 1, 1, 0, 1, 0, 0, 0, 1, 1, 1, 0, 1, 1, 1, 0,\n",
       "       1, 1, 0, 0, 0, 0, 1, 0, 1, 0, 0, 1, 0, 1, 1, 0, 0, 1, 1, 1, 1, 1,\n",
       "       1, 0, 1, 1, 1, 1, 1, 1, 1, 0, 0, 1, 1, 1, 0, 0, 1, 0, 1, 1, 1, 1,\n",
       "       1, 1, 0, 1, 1, 1, 0, 1, 0, 0, 1, 1, 1, 0, 0, 0, 0, 1, 1, 1, 1, 0,\n",
       "       0, 0, 1, 0, 1, 0, 1, 1, 1, 1, 1, 1, 1, 1, 0, 1, 1, 1, 1, 1, 0, 0,\n",
       "       1, 1, 1, 1])"
      ]
     },
     "execution_count": 55,
     "metadata": {},
     "output_type": "execute_result"
    }
   ],
   "source": [
    "prediction"
   ]
  },
  {
   "cell_type": "code",
   "execution_count": 56,
   "id": "ae6375e3",
   "metadata": {},
   "outputs": [
    {
     "data": {
      "text/plain": [
       "array([0, 1, 1, 1, 1, 1, 0, 1, 1, 0, 1, 0, 0, 0, 0, 1, 1, 0, 1, 1, 1, 0,\n",
       "       1, 1, 0, 0, 1, 0, 1, 0, 1, 0, 0, 1, 0, 1, 1, 0, 0, 0, 1, 1, 1, 1,\n",
       "       1, 0, 0, 0, 1, 1, 1, 1, 1, 0, 0, 1, 1, 1, 0, 0, 1, 0, 0, 0, 0, 1,\n",
       "       1, 1, 0, 1, 1, 1, 0, 0, 0, 0, 1, 1, 1, 0, 0, 1, 0, 1, 1, 1, 1, 0,\n",
       "       0, 0, 0, 0, 0, 1, 1, 1, 1, 1, 1, 1, 1, 1, 0, 1, 1, 1, 0, 1, 0, 0,\n",
       "       1, 1, 1, 1])"
      ]
     },
     "execution_count": 56,
     "metadata": {},
     "output_type": "execute_result"
    }
   ],
   "source": [
    "y_test"
   ]
  },
  {
   "cell_type": "code",
   "execution_count": 57,
   "id": "715b6d3c",
   "metadata": {},
   "outputs": [],
   "source": [
    "def accuracy(true_values, predictions):\n",
    "    N = true_values.shape[0]\n",
    "    accuracy = (true_values == predictions).sum() / N\n",
    "    TP = ((predictions == 1) & (true_values == 1)).sum()\n",
    "    FP = ((predictions == 1) & (true_values == 0)).sum()\n",
    "    precision = TP / (TP+FP)\n",
    "    return precision"
   ]
  },
  {
   "cell_type": "code",
   "execution_count": 58,
   "id": "5ca7e3df",
   "metadata": {},
   "outputs": [
    {
     "data": {
      "text/plain": [
       "0.8289473684210527"
      ]
     },
     "execution_count": 58,
     "metadata": {},
     "output_type": "execute_result"
    }
   ],
   "source": [
    "accuracy(y_test, prediction)"
   ]
  },
  {
   "cell_type": "code",
   "execution_count": 68,
   "id": "c6e9ff4c",
   "metadata": {},
   "outputs": [
    {
     "data": {
      "text/plain": [
       "0.8289473684210527"
      ]
     },
     "execution_count": 68,
     "metadata": {},
     "output_type": "execute_result"
    }
   ],
   "source": [
    "knn = KNN(5)\n",
    "knn.fit(X_train,y_train)\n",
    "prediction = knn.predict(X_test)\n",
    "accuracy(y_test, prediction)"
   ]
  },
  {
   "cell_type": "markdown",
   "id": "c9bec29a",
   "metadata": {},
   "source": [
    "See Linear Discriminant Analysis notebook -> LDA precision was around 92%"
   ]
  }
 ],
 "metadata": {
  "kernelspec": {
   "display_name": "Python 3 (ipykernel)",
   "language": "python",
   "name": "python3"
  },
  "language_info": {
   "codemirror_mode": {
    "name": "ipython",
    "version": 3
   },
   "file_extension": ".py",
   "mimetype": "text/x-python",
   "name": "python",
   "nbconvert_exporter": "python",
   "pygments_lexer": "ipython3",
   "version": "3.8.2"
  }
 },
 "nbformat": 4,
 "nbformat_minor": 5
}
